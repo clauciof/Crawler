{
 "cells": [
  {
   "cell_type": "code",
   "execution_count": 43,
   "metadata": {},
   "outputs": [],
   "source": [
    "import pandas as pd\n",
    "import csv\n",
    "import matplotlib.pyplot as plt\n",
    "import pymysql\n",
    "import sqlalchemy\n",
    "pd.set_option('display.max_colwidth', -1)"
   ]
  },
  {
   "cell_type": "code",
   "execution_count": 44,
   "metadata": {},
   "outputs": [],
   "source": [
    "engine = sqlalchemy.create_engine('mysql+pymysql://root:@localhost/etl')"
   ]
  },
  {
   "cell_type": "code",
   "execution_count": 45,
   "metadata": {},
   "outputs": [
    {
     "data": {
      "text/html": [
       "<div>\n",
       "<style scoped>\n",
       "    .dataframe tbody tr th:only-of-type {\n",
       "        vertical-align: middle;\n",
       "    }\n",
       "\n",
       "    .dataframe tbody tr th {\n",
       "        vertical-align: top;\n",
       "    }\n",
       "\n",
       "    .dataframe thead th {\n",
       "        text-align: right;\n",
       "    }\n",
       "</style>\n",
       "<table border=\"1\" class=\"dataframe\">\n",
       "  <thead>\n",
       "    <tr style=\"text-align: right;\">\n",
       "      <th></th>\n",
       "      <th>Link</th>\n",
       "    </tr>\n",
       "  </thead>\n",
       "  <tbody>\n",
       "    <tr>\n",
       "      <td>0</td>\n",
       "      <td>https://produto.mercadolivre.com.br/MLB-1247940871-maquina-lavar-roupas-12kg-wanke-priscila-127v-brancabord-_JM</td>\n",
       "    </tr>\n",
       "    <tr>\n",
       "      <td>1</td>\n",
       "      <td>https://produto.mercadolivre.com.br/MLB-1247953247-maquina-lavar-roupas-10kg-wanke-paola-127v-branca-e-lilas-_JM</td>\n",
       "    </tr>\n",
       "    <tr>\n",
       "      <td>2</td>\n",
       "      <td>https://produto.mercadolivre.com.br/MLB-1108381599-smart-tv-led-32-hd-samsung-32j4290-2-hdmi-1-usb-wi-fi-_JM</td>\n",
       "    </tr>\n",
       "    <tr>\n",
       "      <td>3</td>\n",
       "      <td>https://produto.mercadolivre.com.br/MLB-1127430053-smarttv-4k-sony-55-x-motion-clarity-4k-x-reality-xbr-55x905f-_JM</td>\n",
       "    </tr>\n",
       "    <tr>\n",
       "      <td>4</td>\n",
       "      <td>https://produto.mercadolivre.com.br/MLB-1010292403-smart-tv-led-50-4k-uhd-tcl-p6us-3-hdmi-2-usb-wi-fi-_JM</td>\n",
       "    </tr>\n",
       "    <tr>\n",
       "      <td>...</td>\n",
       "      <td>...</td>\n",
       "    </tr>\n",
       "    <tr>\n",
       "      <td>39995</td>\n",
       "      <td>https://www.casasbahia.com.br/Informatica/Notebook/notebook-lenovo-ideapad-330-tela-156-hd-intel-i5-8250u-12gb-ssd-240gb-geforce-mx150-2gb-windows-10-81fe0001br-1500496878.html</td>\n",
       "    </tr>\n",
       "    <tr>\n",
       "      <td>39996</td>\n",
       "      <td>https://www.casasbahia.com.br/Informatica/Notebook/notebook-gamer-dell-g5-5590-a23p-9-geracao-intel-core-i7-8gb-1tb-128gb-ssd-placa-video-nvidia-gtx-1660ti-fhd-156-quot-offi-1500398230.html</td>\n",
       "    </tr>\n",
       "    <tr>\n",
       "      <td>39997</td>\n",
       "      <td>https://www.casasbahia.com.br/Informatica/Notebook/notebook-acer-aspire-nitro-5-an515-51-50u2-gamer-tela-156-ips-full-hd-intel-i5-7300hq-16gb-hd-2tb-geforce-gtx-1050-4gb-windows-10-1500497021.html</td>\n",
       "    </tr>\n",
       "    <tr>\n",
       "      <td>39998</td>\n",
       "      <td>https://www.casasbahia.com.br/Informatica/Notebook/notebook-lenovo-core-i5-8265u-8gb-1tb-tela-15-6-windows-10-ideapad-s145-50004962.html</td>\n",
       "    </tr>\n",
       "    <tr>\n",
       "      <td>39999</td>\n",
       "      <td>https://www.casasbahia.com.br/Informatica/Notebook/notebook-dell-inspiron-i15-3584-m11m-core-i3-4gb-1tb-156-quot-windows-10-mouse-wireless-wm326-1500460202.html</td>\n",
       "    </tr>\n",
       "  </tbody>\n",
       "</table>\n",
       "<p>40000 rows × 1 columns</p>\n",
       "</div>"
      ],
      "text/plain": [
       "                                                                                                                                                                                                       Link\n",
       "0      https://produto.mercadolivre.com.br/MLB-1247940871-maquina-lavar-roupas-12kg-wanke-priscila-127v-brancabord-_JM                                                                                     \n",
       "1      https://produto.mercadolivre.com.br/MLB-1247953247-maquina-lavar-roupas-10kg-wanke-paola-127v-branca-e-lilas-_JM                                                                                    \n",
       "2      https://produto.mercadolivre.com.br/MLB-1108381599-smart-tv-led-32-hd-samsung-32j4290-2-hdmi-1-usb-wi-fi-_JM                                                                                        \n",
       "3      https://produto.mercadolivre.com.br/MLB-1127430053-smarttv-4k-sony-55-x-motion-clarity-4k-x-reality-xbr-55x905f-_JM                                                                                 \n",
       "4      https://produto.mercadolivre.com.br/MLB-1010292403-smart-tv-led-50-4k-uhd-tcl-p6us-3-hdmi-2-usb-wi-fi-_JM                                                                                           \n",
       "...                                                                                                          ...                                                                                           \n",
       "39995  https://www.casasbahia.com.br/Informatica/Notebook/notebook-lenovo-ideapad-330-tela-156-hd-intel-i5-8250u-12gb-ssd-240gb-geforce-mx150-2gb-windows-10-81fe0001br-1500496878.html                    \n",
       "39996  https://www.casasbahia.com.br/Informatica/Notebook/notebook-gamer-dell-g5-5590-a23p-9-geracao-intel-core-i7-8gb-1tb-128gb-ssd-placa-video-nvidia-gtx-1660ti-fhd-156-quot-offi-1500398230.html       \n",
       "39997  https://www.casasbahia.com.br/Informatica/Notebook/notebook-acer-aspire-nitro-5-an515-51-50u2-gamer-tela-156-ips-full-hd-intel-i5-7300hq-16gb-hd-2tb-geforce-gtx-1050-4gb-windows-10-1500497021.html\n",
       "39998  https://www.casasbahia.com.br/Informatica/Notebook/notebook-lenovo-core-i5-8265u-8gb-1tb-tela-15-6-windows-10-ideapad-s145-50004962.html                                                            \n",
       "39999  https://www.casasbahia.com.br/Informatica/Notebook/notebook-dell-inspiron-i15-3584-m11m-core-i3-4gb-1tb-156-quot-windows-10-mouse-wireless-wm326-1500460202.html                                    \n",
       "\n",
       "[40000 rows x 1 columns]"
      ]
     },
     "execution_count": 45,
     "metadata": {},
     "output_type": "execute_result"
    }
   ],
   "source": [
    "links = pd.read_csv('offers.csv',names=['Link'])\n",
    "links"
   ]
  },
  {
   "cell_type": "code",
   "execution_count": 46,
   "metadata": {},
   "outputs": [
    {
     "name": "stdout",
     "output_type": "stream",
     "text": [
      "<class 'pandas.core.frame.DataFrame'>\n",
      "RangeIndex: 40000 entries, 0 to 39999\n",
      "Data columns (total 1 columns):\n",
      "Link    40000 non-null object\n",
      "dtypes: object(1)\n",
      "memory usage: 312.6+ KB\n"
     ]
    }
   ],
   "source": [
    "links.info()"
   ]
  },
  {
   "cell_type": "code",
   "execution_count": 47,
   "metadata": {},
   "outputs": [
    {
     "data": {
      "text/plain": [
       "False    40000\n",
       "dtype: int64"
      ]
     },
     "execution_count": 47,
     "metadata": {},
     "output_type": "execute_result"
    }
   ],
   "source": [
    "links.duplicated().value_counts()"
   ]
  },
  {
   "cell_type": "code",
   "execution_count": 49,
   "metadata": {
    "scrolled": true
   },
   "outputs": [
    {
     "data": {
      "text/html": [
       "<div>\n",
       "<style scoped>\n",
       "    .dataframe tbody tr th:only-of-type {\n",
       "        vertical-align: middle;\n",
       "    }\n",
       "\n",
       "    .dataframe tbody tr th {\n",
       "        vertical-align: top;\n",
       "    }\n",
       "\n",
       "    .dataframe thead th {\n",
       "        text-align: right;\n",
       "    }\n",
       "</style>\n",
       "<table border=\"1\" class=\"dataframe\">\n",
       "  <thead>\n",
       "    <tr style=\"text-align: right;\">\n",
       "      <th></th>\n",
       "      <th>Produto</th>\n",
       "      <th>Preco</th>\n",
       "      <th>Site</th>\n",
       "      <th>Link</th>\n",
       "    </tr>\n",
       "  </thead>\n",
       "  <tbody>\n",
       "    <tr>\n",
       "      <td>0</td>\n",
       "      <td>Máquina Lavar Roupas 12kg Wanke Priscila 127v Branca/bordô\\n\\t</td>\n",
       "      <td>522.9</td>\n",
       "      <td>Mercado Livre</td>\n",
       "      <td>https://produto.mercadolivre.com.br/MLB-1247940871-maquina-lavar-roupas-12kg-wanke-priscila-127v-brancabord-_JM</td>\n",
       "    </tr>\n",
       "    <tr>\n",
       "      <td>1</td>\n",
       "      <td>Máquina Lavar Roupas 10kg Wanke Paola 127v Branca E Lilás\\n\\t</td>\n",
       "      <td>451.9</td>\n",
       "      <td>Mercado Livre</td>\n",
       "      <td>https://produto.mercadolivre.com.br/MLB-1247953247-maquina-lavar-roupas-10kg-wanke-paola-127v-branca-e-lilas-_JM</td>\n",
       "    </tr>\n",
       "    <tr>\n",
       "      <td>2</td>\n",
       "      <td>Lavadora de Roupas Electrolux Turbo Economia 10,5kg Br. 220V - 220V</td>\n",
       "      <td>1599.0</td>\n",
       "      <td>Casas Bahia</td>\n",
       "      <td>https://www.casasbahia.com.br/Eletrodomesticos/maquinadelavar/Acimade10kg/lavadora-de-roupas-electrolux-turbo-economia-105kg-br-220v-1500452420.html</td>\n",
       "    </tr>\n",
       "    <tr>\n",
       "      <td>3</td>\n",
       "      <td>Xiaomi Redmi Note 7 4gb/128gb Dual sim - Azul</td>\n",
       "      <td>1189.9</td>\n",
       "      <td>Casas Bahia</td>\n",
       "      <td>https://www.casasbahia.com.br/TelefoneseCelulares/Smartphones/Android/xiaomi-redmi-note-7-4gb-128gb-dual-sim-azul-15245746.html</td>\n",
       "    </tr>\n",
       "    <tr>\n",
       "      <td>4</td>\n",
       "      <td>Lavadora de Roupas Electrolux Turbo Economia 8,5kg Br. 127v</td>\n",
       "      <td>1199.0</td>\n",
       "      <td>Casas Bahia</td>\n",
       "      <td>https://www.casasbahia.com.br/Eletrodomesticos/maquinadelavar/Acimade10kg/lavadora-de-roupas-electrolux-turbo-economia-85kg-br-127v-15475529.html</td>\n",
       "    </tr>\n",
       "    <tr>\n",
       "      <td>...</td>\n",
       "      <td>...</td>\n",
       "      <td>...</td>\n",
       "      <td>...</td>\n",
       "      <td>...</td>\n",
       "    </tr>\n",
       "    <tr>\n",
       "      <td>653</td>\n",
       "      <td>Lavadora Branca Electrolux com Dispenser Autolimpante e Ciclo Silencioso (LPR16) - 110V</td>\n",
       "      <td>1798.0</td>\n",
       "      <td>Casas Bahia</td>\n",
       "      <td>https://www.casasbahia.com.br/Eletrodomesticos/maquinadelavar/Acimade10kg/lavadora-branca-electrolux-com-dispenser-autolimpante-e-ciclo-silencioso-lpr16-14765202.html</td>\n",
       "    </tr>\n",
       "    <tr>\n",
       "      <td>654</td>\n",
       "      <td>Lavadora Brastemp BWH12AB 12kg Super Filtro Antifiapos – Branca</td>\n",
       "      <td>1499.0</td>\n",
       "      <td>Casas Bahia</td>\n",
       "      <td>https://www.casasbahia.com.br/Eletrodomesticos/maquinadelavar/Acimade10kg/lavadora-brastemp-bwh12ab-12kg-super-filtro-antifiapos-branca-7880937.html</td>\n",
       "    </tr>\n",
       "    <tr>\n",
       "      <td>655</td>\n",
       "      <td>Lavadora Brastemp BWK12AB com Ciclo Tira Manchas Advanced Branca - 12Kg</td>\n",
       "      <td>1499.0</td>\n",
       "      <td>Casas Bahia</td>\n",
       "      <td>https://www.casasbahia.com.br/Eletrodomesticos/maquinadelavar/Acimade10kg/lavadora-brastemp-bwk12ab-com-ciclo-tira-manchas-advanced-branca-12kg-50003883.html</td>\n",
       "    </tr>\n",
       "    <tr>\n",
       "      <td>656</td>\n",
       "      <td>Lavadora de Roupas Lavamax Eco 15kg Preta Suggar 110V Le1501pt - 110V</td>\n",
       "      <td>1629.0</td>\n",
       "      <td>Casas Bahia</td>\n",
       "      <td>https://www.casasbahia.com.br/Eletrodomesticos/maquinadelavar/Acimade10kg/lavadora-de-roupas-lavamax-eco-15kg-preta-suggar-110v-le1501pt-13851080.html</td>\n",
       "    </tr>\n",
       "    <tr>\n",
       "      <td>657</td>\n",
       "      <td>Lavadora Consul CWH14AB com Dosagem Extra Econômica e Ciclo Edredom Branca - 14Kg</td>\n",
       "      <td>1859.0</td>\n",
       "      <td>Casas Bahia</td>\n",
       "      <td>https://www.casasbahia.com.br/Eletrodomesticos/maquinadelavar/Acimade10kg/lavadora-consul-cwh14ab-com-dosagem-extra-economica-e-ciclo-edredom-branca-14kg-50003889.html</td>\n",
       "    </tr>\n",
       "  </tbody>\n",
       "</table>\n",
       "<p>658 rows × 4 columns</p>\n",
       "</div>"
      ],
      "text/plain": [
       "                                                                                     Produto  \\\n",
       "0    Máquina Lavar Roupas 12kg Wanke Priscila 127v Branca/bordô\\n\\t                            \n",
       "1    Máquina Lavar Roupas 10kg Wanke Paola 127v Branca E Lilás\\n\\t                             \n",
       "2    Lavadora de Roupas Electrolux Turbo Economia 10,5kg Br. 220V - 220V                       \n",
       "3    Xiaomi Redmi Note 7 4gb/128gb Dual sim - Azul                                             \n",
       "4    Lavadora de Roupas Electrolux Turbo Economia 8,5kg Br. 127v                               \n",
       "..                                                           ...                               \n",
       "653  Lavadora Branca Electrolux com Dispenser Autolimpante e Ciclo Silencioso (LPR16) - 110V   \n",
       "654  Lavadora Brastemp BWH12AB 12kg Super Filtro Antifiapos – Branca                           \n",
       "655  Lavadora Brastemp BWK12AB com Ciclo Tira Manchas Advanced Branca - 12Kg                   \n",
       "656  Lavadora de Roupas Lavamax Eco 15kg Preta Suggar 110V Le1501pt - 110V                     \n",
       "657  Lavadora Consul CWH14AB com Dosagem Extra Econômica e Ciclo Edredom Branca - 14Kg         \n",
       "\n",
       "      Preco           Site  \\\n",
       "0    522.9   Mercado Livre   \n",
       "1    451.9   Mercado Livre   \n",
       "2    1599.0  Casas Bahia     \n",
       "3    1189.9  Casas Bahia     \n",
       "4    1199.0  Casas Bahia     \n",
       "..      ...          ...     \n",
       "653  1798.0  Casas Bahia     \n",
       "654  1499.0  Casas Bahia     \n",
       "655  1499.0  Casas Bahia     \n",
       "656  1629.0  Casas Bahia     \n",
       "657  1859.0  Casas Bahia     \n",
       "\n",
       "                                                                                                                                                                        Link  \n",
       "0    https://produto.mercadolivre.com.br/MLB-1247940871-maquina-lavar-roupas-12kg-wanke-priscila-127v-brancabord-_JM                                                          \n",
       "1    https://produto.mercadolivre.com.br/MLB-1247953247-maquina-lavar-roupas-10kg-wanke-paola-127v-branca-e-lilas-_JM                                                         \n",
       "2    https://www.casasbahia.com.br/Eletrodomesticos/maquinadelavar/Acimade10kg/lavadora-de-roupas-electrolux-turbo-economia-105kg-br-220v-1500452420.html                     \n",
       "3    https://www.casasbahia.com.br/TelefoneseCelulares/Smartphones/Android/xiaomi-redmi-note-7-4gb-128gb-dual-sim-azul-15245746.html                                          \n",
       "4    https://www.casasbahia.com.br/Eletrodomesticos/maquinadelavar/Acimade10kg/lavadora-de-roupas-electrolux-turbo-economia-85kg-br-127v-15475529.html                        \n",
       "..                                                                                                                                                 ...                        \n",
       "653  https://www.casasbahia.com.br/Eletrodomesticos/maquinadelavar/Acimade10kg/lavadora-branca-electrolux-com-dispenser-autolimpante-e-ciclo-silencioso-lpr16-14765202.html   \n",
       "654  https://www.casasbahia.com.br/Eletrodomesticos/maquinadelavar/Acimade10kg/lavadora-brastemp-bwh12ab-12kg-super-filtro-antifiapos-branca-7880937.html                     \n",
       "655  https://www.casasbahia.com.br/Eletrodomesticos/maquinadelavar/Acimade10kg/lavadora-brastemp-bwk12ab-com-ciclo-tira-manchas-advanced-branca-12kg-50003883.html            \n",
       "656  https://www.casasbahia.com.br/Eletrodomesticos/maquinadelavar/Acimade10kg/lavadora-de-roupas-lavamax-eco-15kg-preta-suggar-110v-le1501pt-13851080.html                   \n",
       "657  https://www.casasbahia.com.br/Eletrodomesticos/maquinadelavar/Acimade10kg/lavadora-consul-cwh14ab-com-dosagem-extra-economica-e-ciclo-edredom-branca-14kg-50003889.html  \n",
       "\n",
       "[658 rows x 4 columns]"
      ]
     },
     "execution_count": 49,
     "metadata": {},
     "output_type": "execute_result"
    }
   ],
   "source": [
    "df = pd.read_csv('dados.csv')\n",
    "df"
   ]
  },
  {
   "cell_type": "code",
   "execution_count": 50,
   "metadata": {},
   "outputs": [
    {
     "data": {
      "text/html": [
       "<div>\n",
       "<style scoped>\n",
       "    .dataframe tbody tr th:only-of-type {\n",
       "        vertical-align: middle;\n",
       "    }\n",
       "\n",
       "    .dataframe tbody tr th {\n",
       "        vertical-align: top;\n",
       "    }\n",
       "\n",
       "    .dataframe thead th {\n",
       "        text-align: right;\n",
       "    }\n",
       "</style>\n",
       "<table border=\"1\" class=\"dataframe\">\n",
       "  <thead>\n",
       "    <tr style=\"text-align: right;\">\n",
       "      <th></th>\n",
       "      <th>Produto</th>\n",
       "      <th>Preco</th>\n",
       "      <th>Site</th>\n",
       "      <th>Link</th>\n",
       "    </tr>\n",
       "  </thead>\n",
       "  <tbody>\n",
       "    <tr>\n",
       "      <td>0</td>\n",
       "      <td>Máquina Lavar Roupas 12kg Wanke Priscila 127v Branca/bordô\\n\\t</td>\n",
       "      <td>522.90</td>\n",
       "      <td>Mercado Livre</td>\n",
       "      <td>https://produto.mercadolivre.com.br/MLB-1247940871-maquina-lavar-roupas-12kg-wanke-priscila-127v-brancabord-_JM</td>\n",
       "    </tr>\n",
       "    <tr>\n",
       "      <td>1</td>\n",
       "      <td>Máquina Lavar Roupas 10kg Wanke Paola 127v Branca E Lilás\\n\\t</td>\n",
       "      <td>451.90</td>\n",
       "      <td>Mercado Livre</td>\n",
       "      <td>https://produto.mercadolivre.com.br/MLB-1247953247-maquina-lavar-roupas-10kg-wanke-paola-127v-branca-e-lilas-_JM</td>\n",
       "    </tr>\n",
       "    <tr>\n",
       "      <td>6</td>\n",
       "      <td>Smart Tv Led 32'' Hd Samsung 32j4290 2 Hdmi 1 Usb Wi-fi\\n\\t</td>\n",
       "      <td>959.00</td>\n",
       "      <td>Mercado Livre</td>\n",
       "      <td>https://produto.mercadolivre.com.br/MLB-1108381599-smart-tv-led-32-hd-samsung-32j4290-2-hdmi-1-usb-wi-fi-_JM</td>\n",
       "    </tr>\n",
       "    <tr>\n",
       "      <td>9</td>\n",
       "      <td>Smarttv 4k Sony 55 X-motion Clarity 4k X-reality Xbr-55x905f\\n\\t</td>\n",
       "      <td>3936.84</td>\n",
       "      <td>Mercado Livre</td>\n",
       "      <td>https://produto.mercadolivre.com.br/MLB-1127430053-smarttv-4k-sony-55-x-motion-clarity-4k-x-reality-xbr-55x905f-_JM</td>\n",
       "    </tr>\n",
       "    <tr>\n",
       "      <td>14</td>\n",
       "      <td>Smart Tv Led 50'' 4k Uhd Tcl P6us 3 Hdmi 2 Usb Wi-fi \\n\\t</td>\n",
       "      <td>2159.00</td>\n",
       "      <td>Mercado Livre</td>\n",
       "      <td>https://produto.mercadolivre.com.br/MLB-1010292403-smart-tv-led-50-4k-uhd-tcl-p6us-3-hdmi-2-usb-wi-fi-_JM</td>\n",
       "    </tr>\n",
       "    <tr>\n",
       "      <td>...</td>\n",
       "      <td>...</td>\n",
       "      <td>...</td>\n",
       "      <td>...</td>\n",
       "      <td>...</td>\n",
       "    </tr>\n",
       "    <tr>\n",
       "      <td>623</td>\n",
       "      <td>Lavadora De Roupas Wanke 7.4kg Mariana 220v\\n\\t</td>\n",
       "      <td>371.90</td>\n",
       "      <td>Mercado Livre</td>\n",
       "      <td>https://produto.mercadolivre.com.br/MLB-833376403-lavadora-de-roupas-wanke-74kg-mariana-220v-_JM</td>\n",
       "    </tr>\n",
       "    <tr>\n",
       "      <td>624</td>\n",
       "      <td>Lavadora De Roupas Wanke 7.4kg Mariana 220v\\n\\t</td>\n",
       "      <td>338.90</td>\n",
       "      <td>Mercado Livre</td>\n",
       "      <td>https://produto.mercadolivre.com.br/MLB-833376404-lavadora-de-roupas-wanke-74kg-mariana-220v-_JM</td>\n",
       "    </tr>\n",
       "    <tr>\n",
       "      <td>628</td>\n",
       "      <td>Smart Tv Led 32  Samsung 32j4290 Hd Com Conversor Digital 2 Hdmi 1 Usb Wi-fi 60hz - Preta 0\\n\\t</td>\n",
       "      <td>1099.89</td>\n",
       "      <td>Mercado Livre</td>\n",
       "      <td>https://produto.mercadolivre.com.br/MLB-1303853267-smart-tv-led-32-samsung-32j4290-hd-com-conversor-digital-2-hdmi-1-usb-wi-fi-60hz-preta-0-_JM</td>\n",
       "    </tr>\n",
       "    <tr>\n",
       "      <td>629</td>\n",
       "      <td>Lavadora Tradicional 5.0 Wanke Escura - 220v\\n\\t</td>\n",
       "      <td>629.90</td>\n",
       "      <td>Mercado Livre</td>\n",
       "      <td>https://produto.mercadolivre.com.br/MLB-1303856014-lavadora-tradicional-50-wanke-escura-220v-_JM</td>\n",
       "    </tr>\n",
       "    <tr>\n",
       "      <td>630</td>\n",
       "      <td>Secadora Brastemp Ative! Suspensa 10 Kg Bsi10abana - 220v\\n\\t</td>\n",
       "      <td>1979.89</td>\n",
       "      <td>Mercado Livre</td>\n",
       "      <td>https://produto.mercadolivre.com.br/MLB-1303858081-secadora-brastemp-ative-suspensa-10-kg-bsi10abana-220v-_JM</td>\n",
       "    </tr>\n",
       "  </tbody>\n",
       "</table>\n",
       "<p>79 rows × 4 columns</p>\n",
       "</div>"
      ],
      "text/plain": [
       "                                                                                             Produto  \\\n",
       "0    Máquina Lavar Roupas 12kg Wanke Priscila 127v Branca/bordô\\n\\t                                    \n",
       "1    Máquina Lavar Roupas 10kg Wanke Paola 127v Branca E Lilás\\n\\t                                     \n",
       "6    Smart Tv Led 32'' Hd Samsung 32j4290 2 Hdmi 1 Usb Wi-fi\\n\\t                                       \n",
       "9    Smarttv 4k Sony 55 X-motion Clarity 4k X-reality Xbr-55x905f\\n\\t                                  \n",
       "14   Smart Tv Led 50'' 4k Uhd Tcl P6us 3 Hdmi 2 Usb Wi-fi \\n\\t                                         \n",
       "..                                                         ...                                         \n",
       "623  Lavadora De Roupas Wanke 7.4kg Mariana 220v\\n\\t                                                   \n",
       "624  Lavadora De Roupas Wanke 7.4kg Mariana 220v\\n\\t                                                   \n",
       "628  Smart Tv Led 32  Samsung 32j4290 Hd Com Conversor Digital 2 Hdmi 1 Usb Wi-fi 60hz - Preta 0\\n\\t   \n",
       "629  Lavadora Tradicional 5.0 Wanke Escura - 220v\\n\\t                                                  \n",
       "630  Secadora Brastemp Ative! Suspensa 10 Kg Bsi10abana - 220v\\n\\t                                     \n",
       "\n",
       "       Preco           Site  \\\n",
       "0    522.90   Mercado Livre   \n",
       "1    451.90   Mercado Livre   \n",
       "6    959.00   Mercado Livre   \n",
       "9    3936.84  Mercado Livre   \n",
       "14   2159.00  Mercado Livre   \n",
       "..       ...            ...   \n",
       "623  371.90   Mercado Livre   \n",
       "624  338.90   Mercado Livre   \n",
       "628  1099.89  Mercado Livre   \n",
       "629  629.90   Mercado Livre   \n",
       "630  1979.89  Mercado Livre   \n",
       "\n",
       "                                                                                                                                                Link  \n",
       "0    https://produto.mercadolivre.com.br/MLB-1247940871-maquina-lavar-roupas-12kg-wanke-priscila-127v-brancabord-_JM                                  \n",
       "1    https://produto.mercadolivre.com.br/MLB-1247953247-maquina-lavar-roupas-10kg-wanke-paola-127v-branca-e-lilas-_JM                                 \n",
       "6    https://produto.mercadolivre.com.br/MLB-1108381599-smart-tv-led-32-hd-samsung-32j4290-2-hdmi-1-usb-wi-fi-_JM                                     \n",
       "9    https://produto.mercadolivre.com.br/MLB-1127430053-smarttv-4k-sony-55-x-motion-clarity-4k-x-reality-xbr-55x905f-_JM                              \n",
       "14   https://produto.mercadolivre.com.br/MLB-1010292403-smart-tv-led-50-4k-uhd-tcl-p6us-3-hdmi-2-usb-wi-fi-_JM                                        \n",
       "..                                                                                                         ...                                        \n",
       "623  https://produto.mercadolivre.com.br/MLB-833376403-lavadora-de-roupas-wanke-74kg-mariana-220v-_JM                                                 \n",
       "624  https://produto.mercadolivre.com.br/MLB-833376404-lavadora-de-roupas-wanke-74kg-mariana-220v-_JM                                                 \n",
       "628  https://produto.mercadolivre.com.br/MLB-1303853267-smart-tv-led-32-samsung-32j4290-hd-com-conversor-digital-2-hdmi-1-usb-wi-fi-60hz-preta-0-_JM  \n",
       "629  https://produto.mercadolivre.com.br/MLB-1303856014-lavadora-tradicional-50-wanke-escura-220v-_JM                                                 \n",
       "630  https://produto.mercadolivre.com.br/MLB-1303858081-secadora-brastemp-ative-suspensa-10-kg-bsi10abana-220v-_JM                                    \n",
       "\n",
       "[79 rows x 4 columns]"
      ]
     },
     "execution_count": 50,
     "metadata": {},
     "output_type": "execute_result"
    }
   ],
   "source": [
    "df2 = pd.read_sql_table('dados', engine)\n",
    "df2[df['Site'] == 'Mercado Livre']"
   ]
  },
  {
   "cell_type": "code",
   "execution_count": 51,
   "metadata": {
    "scrolled": true
   },
   "outputs": [
    {
     "data": {
      "text/plain": [
       "False    658\n",
       "dtype: int64"
      ]
     },
     "execution_count": 51,
     "metadata": {},
     "output_type": "execute_result"
    }
   ],
   "source": [
    " df2.duplicated().value_counts()"
   ]
  },
  {
   "cell_type": "code",
   "execution_count": 52,
   "metadata": {
    "scrolled": true
   },
   "outputs": [
    {
     "data": {
      "text/plain": [
       "Casas Bahia       526\n",
       "Mercado Livre     79 \n",
       "Magazine Luiza    53 \n",
       "Name: Site, dtype: int64"
      ]
     },
     "execution_count": 52,
     "metadata": {},
     "output_type": "execute_result"
    }
   ],
   "source": [
    "df2['Site'].value_counts()"
   ]
  },
  {
   "cell_type": "code",
   "execution_count": 53,
   "metadata": {},
   "outputs": [
    {
     "data": {
      "image/png": "[encoded data removed]",
      "text/plain": [
       "<Figure size 432x288 with 1 Axes>"
      ]
     },
     "metadata": {
      "needs_background": "light"
     },
     "output_type": "display_data"
    }
   ],
   "source": [
    "y = df2['Site'].value_counts().tolist()\n",
    "x = df2['Site'].unique().tolist() #['Mercado Livre', 'Magazine Luiza', 'Casas Bahia']\n",
    "\n",
    "plt.bar(x, y)\n",
    "plt.grid(True)\n",
    "plt.show()"
   ]
  },
  {
   "cell_type": "code",
   "execution_count": 54,
   "metadata": {},
   "outputs": [
    {
     "data": {
      "text/plain": [
       "Produto    object \n",
       "Preco      float64\n",
       "Site       object \n",
       "Link       object \n",
       "dtype: object"
      ]
     },
     "execution_count": 54,
     "metadata": {},
     "output_type": "execute_result"
    }
   ],
   "source": [
    "df2.dtypes"
   ]
  },
  {
   "cell_type": "code",
   "execution_count": 37,
   "metadata": {},
   "outputs": [
    {
     "data": {
      "text/html": [
       "<div>\n",
       "<style scoped>\n",
       "    .dataframe tbody tr th:only-of-type {\n",
       "        vertical-align: middle;\n",
       "    }\n",
       "\n",
       "    .dataframe tbody tr th {\n",
       "        vertical-align: top;\n",
       "    }\n",
       "\n",
       "    .dataframe thead th {\n",
       "        text-align: right;\n",
       "    }\n",
       "</style>\n",
       "<table border=\"1\" class=\"dataframe\">\n",
       "  <thead>\n",
       "    <tr style=\"text-align: right;\">\n",
       "      <th></th>\n",
       "      <th>Produto</th>\n",
       "      <th>Preco</th>\n",
       "      <th>Site</th>\n",
       "      <th>Link</th>\n",
       "    </tr>\n",
       "  </thead>\n",
       "  <tbody>\n",
       "    <tr>\n",
       "      <td>66</td>\n",
       "      <td>Celular Motorola G7 Plus 64GB 4GB RAM 6,24 Câm...</td>\n",
       "      <td>1499.0</td>\n",
       "      <td>Casas Bahia</td>\n",
       "      <td>https://www.casasbahia.com.br/TelefoneseCelula...</td>\n",
       "    </tr>\n",
       "    <tr>\n",
       "      <td>209</td>\n",
       "      <td>Lavadora Turbo Electrolux Branca com Capacidad...</td>\n",
       "      <td>1499.0</td>\n",
       "      <td>Casas Bahia</td>\n",
       "      <td>https://www.casasbahia.com.br/Eletrodomesticos...</td>\n",
       "    </tr>\n",
       "    <tr>\n",
       "      <td>326</td>\n",
       "      <td>Lavadora Electrolux LAC16 com Dispenser Autoli...</td>\n",
       "      <td>1499.0</td>\n",
       "      <td>Casas Bahia</td>\n",
       "      <td>https://www.casasbahia.com.br/Eletrodomesticos...</td>\n",
       "    </tr>\n",
       "    <tr>\n",
       "      <td>654</td>\n",
       "      <td>Lavadora Brastemp BWH12AB 12kg Super Filtro An...</td>\n",
       "      <td>1499.0</td>\n",
       "      <td>Casas Bahia</td>\n",
       "      <td>https://www.casasbahia.com.br/Eletrodomesticos...</td>\n",
       "    </tr>\n",
       "    <tr>\n",
       "      <td>655</td>\n",
       "      <td>Lavadora Brastemp BWK12AB com Ciclo Tira Manch...</td>\n",
       "      <td>1499.0</td>\n",
       "      <td>Casas Bahia</td>\n",
       "      <td>https://www.casasbahia.com.br/Eletrodomesticos...</td>\n",
       "    </tr>\n",
       "  </tbody>\n",
       "</table>\n",
       "</div>"
      ],
      "text/plain": [
       "                                               Produto   Preco         Site  \\\n",
       "66   Celular Motorola G7 Plus 64GB 4GB RAM 6,24 Câm...  1499.0  Casas Bahia   \n",
       "209  Lavadora Turbo Electrolux Branca com Capacidad...  1499.0  Casas Bahia   \n",
       "326  Lavadora Electrolux LAC16 com Dispenser Autoli...  1499.0  Casas Bahia   \n",
       "654  Lavadora Brastemp BWH12AB 12kg Super Filtro An...  1499.0  Casas Bahia   \n",
       "655  Lavadora Brastemp BWK12AB com Ciclo Tira Manch...  1499.0  Casas Bahia   \n",
       "\n",
       "                                                  Link  \n",
       "66   https://www.casasbahia.com.br/TelefoneseCelula...  \n",
       "209  https://www.casasbahia.com.br/Eletrodomesticos...  \n",
       "326  https://www.casasbahia.com.br/Eletrodomesticos...  \n",
       "654  https://www.casasbahia.com.br/Eletrodomesticos...  \n",
       "655  https://www.casasbahia.com.br/Eletrodomesticos...  "
      ]
     },
     "execution_count": 37,
     "metadata": {},
     "output_type": "execute_result"
    }
   ],
   "source": []
  }
 ],
 "metadata": {
  "kernelspec": {
   "display_name": "Python 3",
   "language": "python",
   "name": "python3"
  },
  "language_info": {
   "codemirror_mode": {
    "name": "ipython",
    "version": 3
   },
   "file_extension": ".py",
   "mimetype": "text/x-python",
   "name": "python",
   "nbconvert_exporter": "python",
   "pygments_lexer": "ipython3",
   "version": "3.7.3"
  }
 },
 "nbformat": 4,
 "nbformat_minor": 2
}
